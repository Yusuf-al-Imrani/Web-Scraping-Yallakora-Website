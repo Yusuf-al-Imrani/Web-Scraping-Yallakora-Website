{
 "cells": [
  {
   "cell_type": "code",
   "execution_count": 1,
   "metadata": {},
   "outputs": [],
   "source": [
    "import requests\n",
    "from bs4 import BeautifulSoup \n",
    "import lxml\n",
    "import csv\n",
    "from datetime import datetime\n"
   ]
  },
  {
   "cell_type": "markdown",
   "metadata": {},
   "source": [
    "#### Taking day date from user"
   ]
  },
  {
   "cell_type": "code",
   "execution_count": 2,
   "metadata": {
    "scrolled": true
   },
   "outputs": [
    {
     "name": "stdout",
     "output_type": "stream",
     "text": [
      "Enter a date in the format mm/dd/yyyy: 3/3/2023\n",
      "You entered:  3/3/2023\n",
      "After changing it to data:  2023-03-03\n",
      "After converted back to string on the format %m-%d-%Y:  03-03-2023\n"
     ]
    }
   ],
   "source": [
    "# Accept input from user\n",
    "date_string = input(\"Enter a date in the format mm/dd/yyyy: \")\n",
    "print(\"You entered: \", date_string)\n",
    "\n",
    "from datetime import datetime\n",
    "\n",
    "# Convert date string to datetime object\n",
    "date_object = datetime.strptime(date_string, '%m/%d/%Y').date()\n",
    "print(\"After changing it to data: \", date_object)\n",
    "\n",
    "# Convert datetime object back to string with new format\n",
    "new_date_string = datetime.strftime(date_object, '%m-%d-%Y')\n",
    "print(\"After converted back to string on the format %m-%d-%Y: \", new_date_string)\n"
   ]
  },
  {
   "cell_type": "markdown",
   "metadata": {},
   "source": [
    " "
   ]
  },
  {
   "cell_type": "code",
   "execution_count": 25,
   "metadata": {},
   "outputs": [],
   "source": [
    "# Storing file name and file path in global variables to be used in multiple cells\n",
    "file_name = f\"Match_Data_Scraped_{new_date_string}.csv\"\n",
    "file_path = \"C:/Users/yusuf/Data Science/Projects/Web Scraping/Yallakor.com\"\n",
    "path = file_path+\"/\"+file_name"
   ]
  },
  {
   "cell_type": "code",
   "execution_count": 3,
   "metadata": {},
   "outputs": [
    {
     "data": {
      "text/plain": [
       "<Response [200]>"
      ]
     },
     "execution_count": 3,
     "metadata": {},
     "output_type": "execute_result"
    }
   ],
   "source": [
    "# Requesting the webpage and adding the date to it\n",
    "page = requests.get(f\"https://www.yallakora.com/match-center?date={date_string}\")\n",
    "website_URL = \"https://www.yallakora.com\"\n",
    "\n",
    "# Checking the response of the getting the page, if respose is 200; this means we got it fine\n",
    "page"
   ]
  },
  {
   "cell_type": "markdown",
   "metadata": {},
   "source": [
    " "
   ]
  },
  {
   "cell_type": "markdown",
   "metadata": {},
   "source": [
    " "
   ]
  },
  {
   "cell_type": "markdown",
   "metadata": {},
   "source": [
    "### Building function that extract match details through segment of the webpage and store it in csv file"
   ]
  },
  {
   "cell_type": "code",
   "execution_count": 39,
   "metadata": {},
   "outputs": [],
   "source": [
    "def get_match_info(championships):\n",
    "        # Looping through the championships\n",
    "        #for championship in championships:\n",
    "        \n",
    "        match_details = []\n",
    "        \n",
    "        # Looping thorou championships\n",
    "        for championship in championships:\n",
    "            \n",
    "            #championship_title = championships[1].find(\"h2\").text.strip()\n",
    "            championship_title = championship.find(\"a\",{\"class\":\"tourTitle\"}).find_next(\"h2\").text.strip()\n",
    "            team_a = championship.find(\"div\",{\"class\":\"allData\"}\n",
    "                                      ).find_next(\"div\", {\"class\":\"teamsData\"}\n",
    "                                                 ).find_next(\"div\", {\"class\":\"teams teamA\"}\n",
    "                                                            ).find_next(\"p\").text\n",
    "            \n",
    "            team_b = championship.find(\"div\",{\"class\":\"allData\"}\n",
    "                                      ).find_next(\"div\", {\"class\":\"teamsData\"}\n",
    "                                                 ).find_next(\"div\", {\"class\":\"teams teamB\"}\n",
    "                                                            ).find_next(\"p\").text\n",
    "            \n",
    "            time = championship.find(\"div\",{\"class\":\"allData\"}\n",
    "                                      ).find_next(\"div\", {\"class\":\"teamsData\"}\n",
    "                                                 ).find_next(\"div\", {\"class\":\"MResult\"}\n",
    "                                                            ).find_next(\"span\"\n",
    "                                                                       ).find_next(\"span\"\n",
    "                                                                                  ).find_next(\"span\"\n",
    "                                                                                             ).find_next(\"span\").text\n",
    "            team_a_score = championship.find(\"div\",{\"class\":\"allData\"}\n",
    "                                      ).find_next(\"div\", {\"class\":\"teamsData\"}\n",
    "                                                 ).find_next(\"div\", {\"class\":\"MResult\"}\n",
    "                                                            ).find_next(\"span\").text\n",
    "\n",
    "            team_b_score = championship.find(\"div\",{\"class\":\"allData\"}\n",
    "                                      ).find_next(\"div\", {\"class\":\"teamsData\"}\n",
    "                                                 ).find_next(\"div\", {\"class\":\"MResult\"}\n",
    "                                                            ).find_next(\"span\"\n",
    "                                                                       ).find_next(\"span\"\n",
    "                                                                                  ).find_next(\"span\").text\n",
    "\n",
    "            match_status = championship.find(\"div\",{\"class\":\"matchStatus\"}).find_next('span').text\n",
    "\n",
    "            # Used getattr func to allocate None if there is no value in the webpage\n",
    "            chanel_streaming = getattr(championship.find(\"div\",{\"class\":\"channel icon-channel\"}), 'text', None)\n",
    "\n",
    "            match_detail_link = website_URL + championship.find(\"div\",{\"class\":\"leftCol\"}\n",
    "                                                               ).find_next('a')['href']\n",
    "\n",
    "            match_week_number = championship.find(\"div\",{\"class\":\"date\"}).text.strip()\n",
    "\n",
    "\n",
    "            # Storing the values in dictionary\n",
    "            match = {'Date':date_object, 'Championship_Title':championship_title, 'Team_A':team_a, 'Team_B':team_b,\n",
    "                     'Time':time, 'Team_A_Score':team_a_score, 'Team_B_Score':team_b_score,\n",
    "                     'Match_Status':match_status, 'Chanel_Streaming':chanel_streaming,\n",
    "                     'Match_Detail_Link':match_detail_link,'Match_Week_Number':match_week_number}\n",
    "\n",
    "            # Appending the match to match_list\n",
    "            match_details.append(match)\n",
    "        \n",
    "        return(match_details)\n",
    "        \n",
    "\n",
    "            "
   ]
  },
  {
   "cell_type": "markdown",
   "metadata": {},
   "source": [
    " "
   ]
  },
  {
   "cell_type": "markdown",
   "metadata": {},
   "source": [
    " #### Storing the data in csv file"
   ]
  },
  {
   "cell_type": "code",
   "execution_count": 5,
   "metadata": {},
   "outputs": [],
   "source": [
    "# Function to store the data scraped in csv file\n",
    "\n",
    "def store_in_csv(match_details, file_name, path):\n",
    "    #C:\\\\Users\\\\yusuf\\\\Data Science\\\\Projects\\\\Web Scraping\\\\Yallakor.com\"+\"\\\\\n",
    "\n",
    "\n",
    "    # Creating Keys to use in match dictionary\n",
    "    keys = ['Date', 'Championship_Title', 'Team_A', 'Team_B', 'Time', 'Team_A_Score', 'Team_B_Score',\n",
    "            'Match_Status', 'Chanel_Streaming', 'Match_Detail_Link','Match_Week_Number']\n",
    "\n",
    "    # Storing the championships details in csv file\n",
    "    with open(path, 'w', newline=\"\") as match_data:\n",
    "        dict_writer = csv.DictWriter(match_data, fieldnames=keys) \n",
    "        dict_writer.writeheader()\n",
    "\n",
    "        # Looping through championships to store its data\n",
    "        for match in match_details: \n",
    "            dict_writer.writerow(match)\n",
    "\n",
    "        # Checking the file creation is done\n",
    "        print(f\"Match data saved to file{file_name}\")"
   ]
  },
  {
   "cell_type": "markdown",
   "metadata": {},
   "source": [
    " "
   ]
  },
  {
   "cell_type": "markdown",
   "metadata": {},
   "source": [
    "#### Calling the main function that scrape the website contect"
   ]
  },
  {
   "cell_type": "code",
   "execution_count": 9,
   "metadata": {},
   "outputs": [],
   "source": [
    "# Function to do the steps of scraping\n",
    "def scraping(page):\n",
    "    \n",
    "    src = page.content\n",
    "    soup =  BeautifulSoup(src, \"lxml\")\n",
    "    \n",
    "    # List to store matches # Creating list to store match details on it\n",
    "    match_details = []\n",
    "    \n",
    "    championships = soup.find_all(\"div\", {'class':'matchCard'})\n",
    "    \n",
    "    # Test championships \n",
    "    #print(championships)\n",
    "    \n",
    "    \n",
    "    # Calling the function that gets match info    \n",
    "    match_details_scraped = get_match_info(championships)\n",
    "    \n",
    "    # Calling the function that stores the data scraped in csv file\n",
    "    store_in_csv(match_details_scraped, file_name, path)\n"
   ]
  },
  {
   "cell_type": "code",
   "execution_count": 36,
   "metadata": {},
   "outputs": [
    {
     "name": "stdout",
     "output_type": "stream",
     "text": [
      "Match data saved to fileMatch_Data_Scraped_03-03-2023.csv\n"
     ]
    }
   ],
   "source": [
    "scraping(page)"
   ]
  },
  {
   "cell_type": "markdown",
   "metadata": {},
   "source": [
    " "
   ]
  },
  {
   "cell_type": "markdown",
   "metadata": {},
   "source": [
    " "
   ]
  },
  {
   "cell_type": "markdown",
   "metadata": {},
   "source": [
    " "
   ]
  },
  {
   "cell_type": "markdown",
   "metadata": {},
   "source": [
    "## Working on the resulted data\n",
    "\n",
    "### Openning the csv file and show the data"
   ]
  },
  {
   "cell_type": "code",
   "execution_count": 24,
   "metadata": {},
   "outputs": [],
   "source": [
    "#Importing Libraries\n",
    "\n",
    "import numpy as np # linear algebra\n",
    "import pandas as pd # data processing, CSV file I/O (e.g. pd.read_csv)\n",
    "import matplotlib.pyplot as plt\n",
    "import seaborn as sns\n",
    "from six.moves import urllib\n",
    "import os "
   ]
  },
  {
   "cell_type": "code",
   "execution_count": 28,
   "metadata": {},
   "outputs": [],
   "source": [
    "#function to read the data\n",
    "\n",
    "def load_data(file_path, file_name):\n",
    "    \n",
    "    csv_path = os.path.join(file_path, file_name)\n",
    "    \n",
    "    return(pd.read_csv(csv_path))\n",
    "\n"
   ]
  },
  {
   "cell_type": "code",
   "execution_count": 37,
   "metadata": {},
   "outputs": [],
   "source": [
    "# Loading the data using the load_data function\n",
    "data = load_data(file_path, file_name)"
   ]
  },
  {
   "cell_type": "code",
   "execution_count": 38,
   "metadata": {},
   "outputs": [
    {
     "data": {
      "text/html": [
       "<div>\n",
       "<style scoped>\n",
       "    .dataframe tbody tr th:only-of-type {\n",
       "        vertical-align: middle;\n",
       "    }\n",
       "\n",
       "    .dataframe tbody tr th {\n",
       "        vertical-align: top;\n",
       "    }\n",
       "\n",
       "    .dataframe thead th {\n",
       "        text-align: right;\n",
       "    }\n",
       "</style>\n",
       "<table border=\"1\" class=\"dataframe\">\n",
       "  <thead>\n",
       "    <tr style=\"text-align: right;\">\n",
       "      <th></th>\n",
       "      <th>Date</th>\n",
       "      <th>Championship_Title</th>\n",
       "      <th>Team_A</th>\n",
       "      <th>Team_B</th>\n",
       "      <th>Time</th>\n",
       "      <th>Team_A_Score</th>\n",
       "      <th>Team_B_Score</th>\n",
       "      <th>Match_Status</th>\n",
       "      <th>Chanel_Streaming</th>\n",
       "      <th>Match_Detail_Link</th>\n",
       "      <th>Match_Week_Number</th>\n",
       "    </tr>\n",
       "  </thead>\n",
       "  <tbody>\n",
       "    <tr>\n",
       "      <th>0</th>\n",
       "      <td>2023-03-03</td>\n",
       "      <td>دوري أبطال إفريقيا</td>\n",
       "      <td>الوداد البيضاوي</td>\n",
       "      <td>فيتا كلوب</td>\n",
       "      <td>21:00</td>\n",
       "      <td>1</td>\n",
       "      <td>0</td>\n",
       "      <td>انتهت</td>\n",
       "      <td>بى ان سبورت 4 HD</td>\n",
       "      <td>https://www.yallakora.com/african-champions-le...</td>\n",
       "      <td>الجولة الاولي</td>\n",
       "    </tr>\n",
       "    <tr>\n",
       "      <th>1</th>\n",
       "      <td>2023-03-03</td>\n",
       "      <td>الدوري المصري</td>\n",
       "      <td>فيوتشر اف سي</td>\n",
       "      <td>الإسماعيلي</td>\n",
       "      <td>17:00</td>\n",
       "      <td>0</td>\n",
       "      <td>0</td>\n",
       "      <td>انتهت</td>\n",
       "      <td>Ontime sports 2</td>\n",
       "      <td>https://www.yallakora.com/egyptian-league/2795...</td>\n",
       "      <td>الأسبوع العشرون</td>\n",
       "    </tr>\n",
       "    <tr>\n",
       "      <th>2</th>\n",
       "      <td>2023-03-03</td>\n",
       "      <td>الدوري الإسباني</td>\n",
       "      <td>ريال سوسيداد</td>\n",
       "      <td>قادش</td>\n",
       "      <td>22:00</td>\n",
       "      <td>0</td>\n",
       "      <td>0</td>\n",
       "      <td>انتهت</td>\n",
       "      <td>بى ان سبورت 1HD</td>\n",
       "      <td>https://www.yallakora.com/la-liga/2764/match/8...</td>\n",
       "      <td>الأسبوع الرابع والعشرون</td>\n",
       "    </tr>\n",
       "    <tr>\n",
       "      <th>3</th>\n",
       "      <td>2023-03-03</td>\n",
       "      <td>بطولة أفريقيا للشباب</td>\n",
       "      <td>جامبيا - شباب</td>\n",
       "      <td>جنوب السودان - شباب</td>\n",
       "      <td>16:00</td>\n",
       "      <td>5</td>\n",
       "      <td>0</td>\n",
       "      <td>انتهت</td>\n",
       "      <td>بى ان سبورت 4 HD</td>\n",
       "      <td>https://www.yallakora.com/african-youth-champi...</td>\n",
       "      <td>دور الثمانية</td>\n",
       "    </tr>\n",
       "    <tr>\n",
       "      <th>4</th>\n",
       "      <td>2023-03-03</td>\n",
       "      <td>الدوري الإيطالي</td>\n",
       "      <td>نابولي</td>\n",
       "      <td>لاتسيو</td>\n",
       "      <td>21:45</td>\n",
       "      <td>0</td>\n",
       "      <td>1</td>\n",
       "      <td>انتهت</td>\n",
       "      <td>Starz Play App</td>\n",
       "      <td>https://www.yallakora.com/serie-a/2765/match/8...</td>\n",
       "      <td>الأسبوع الخامس والعشرون</td>\n",
       "    </tr>\n",
       "    <tr>\n",
       "      <th>5</th>\n",
       "      <td>2023-03-03</td>\n",
       "      <td>الدوري الألماني</td>\n",
       "      <td>بروسيا دورتموند</td>\n",
       "      <td>لايبزيج</td>\n",
       "      <td>21:30</td>\n",
       "      <td>2</td>\n",
       "      <td>1</td>\n",
       "      <td>انتهت</td>\n",
       "      <td>بى ان سبورت 3 HD</td>\n",
       "      <td>https://www.yallakora.com/bundesliga/2769/matc...</td>\n",
       "      <td>الأسبوع الثالث والعشرون</td>\n",
       "    </tr>\n",
       "    <tr>\n",
       "      <th>6</th>\n",
       "      <td>2023-03-03</td>\n",
       "      <td>الدوري الفرنسي</td>\n",
       "      <td>نيس</td>\n",
       "      <td>اوكسير</td>\n",
       "      <td>22:00</td>\n",
       "      <td>1</td>\n",
       "      <td>1</td>\n",
       "      <td>انتهت</td>\n",
       "      <td>بى ان سبورت 2 HD</td>\n",
       "      <td>https://www.yallakora.com/ligue1/2768/match/87...</td>\n",
       "      <td>الأسبوع السادس والعشرون</td>\n",
       "    </tr>\n",
       "    <tr>\n",
       "      <th>7</th>\n",
       "      <td>2023-03-03</td>\n",
       "      <td>الدوري التركي</td>\n",
       "      <td>ألانيا سبور</td>\n",
       "      <td>إسطنبول باشاكشهير</td>\n",
       "      <td>19:00</td>\n",
       "      <td>1</td>\n",
       "      <td>0</td>\n",
       "      <td>انتهت</td>\n",
       "      <td>NaN</td>\n",
       "      <td>https://www.yallakora.com/turkish-super-lig/27...</td>\n",
       "      <td>الأسبوع الرابع والعشرون</td>\n",
       "    </tr>\n",
       "    <tr>\n",
       "      <th>8</th>\n",
       "      <td>2023-03-03</td>\n",
       "      <td>الدوري السعودي</td>\n",
       "      <td>الخليج</td>\n",
       "      <td>الاتحاد</td>\n",
       "      <td>15:00</td>\n",
       "      <td>0</td>\n",
       "      <td>3</td>\n",
       "      <td>انتهت</td>\n",
       "      <td>NaN</td>\n",
       "      <td>https://www.yallakora.com/ksa-league/2784/matc...</td>\n",
       "      <td>الأسبوع التاسع عشر</td>\n",
       "    </tr>\n",
       "    <tr>\n",
       "      <th>9</th>\n",
       "      <td>2023-03-03</td>\n",
       "      <td>الدوري البرتغالي</td>\n",
       "      <td>بوافيستا</td>\n",
       "      <td>أروكا</td>\n",
       "      <td>21:00</td>\n",
       "      <td>0</td>\n",
       "      <td>0</td>\n",
       "      <td>انتهت</td>\n",
       "      <td>NaN</td>\n",
       "      <td>https://www.yallakora.com/primeira-liga/2775/m...</td>\n",
       "      <td>الأسبوع الثالث والعشرون</td>\n",
       "    </tr>\n",
       "    <tr>\n",
       "      <th>10</th>\n",
       "      <td>2023-03-03</td>\n",
       "      <td>الدوري الإماراتي</td>\n",
       "      <td>الظفرة</td>\n",
       "      <td>الوصل</td>\n",
       "      <td>15:30</td>\n",
       "      <td>0</td>\n",
       "      <td>2</td>\n",
       "      <td>انتهت</td>\n",
       "      <td>NaN</td>\n",
       "      <td>https://www.yallakora.com/uael-league/2781/mat...</td>\n",
       "      <td>الأسبوع الثامن عشر</td>\n",
       "    </tr>\n",
       "    <tr>\n",
       "      <th>11</th>\n",
       "      <td>2023-03-03</td>\n",
       "      <td>دوري نجوم قطر</td>\n",
       "      <td>الغرافة</td>\n",
       "      <td>الأهلي القطري</td>\n",
       "      <td>15:55</td>\n",
       "      <td>1</td>\n",
       "      <td>1</td>\n",
       "      <td>انتهت</td>\n",
       "      <td>NaN</td>\n",
       "      <td>https://www.yallakora.com/qatar-league/2779/ma...</td>\n",
       "      <td>الأسبوع السادس عشر</td>\n",
       "    </tr>\n",
       "    <tr>\n",
       "      <th>12</th>\n",
       "      <td>2023-03-03</td>\n",
       "      <td>الدوري المغربي</td>\n",
       "      <td>المغرب الفاسي</td>\n",
       "      <td>الفتح الرباطي</td>\n",
       "      <td>19:15</td>\n",
       "      <td>0</td>\n",
       "      <td>0</td>\n",
       "      <td>انتهت</td>\n",
       "      <td>NaN</td>\n",
       "      <td>https://www.yallakora.com/morrocan-league/2794...</td>\n",
       "      <td>الأسبوع التاسع عشر</td>\n",
       "    </tr>\n",
       "  </tbody>\n",
       "</table>\n",
       "</div>"
      ],
      "text/plain": [
       "          Date    Championship_Title            Team_A               Team_B  \\\n",
       "0   2023-03-03    دوري أبطال إفريقيا   الوداد البيضاوي            فيتا كلوب   \n",
       "1   2023-03-03         الدوري المصري      فيوتشر اف سي           الإسماعيلي   \n",
       "2   2023-03-03       الدوري الإسباني      ريال سوسيداد                 قادش   \n",
       "3   2023-03-03  بطولة أفريقيا للشباب     جامبيا - شباب  جنوب السودان - شباب   \n",
       "4   2023-03-03       الدوري الإيطالي            نابولي               لاتسيو   \n",
       "5   2023-03-03       الدوري الألماني  بروسيا دورتموند               لايبزيج   \n",
       "6   2023-03-03        الدوري الفرنسي               نيس               اوكسير   \n",
       "7   2023-03-03         الدوري التركي       ألانيا سبور    إسطنبول باشاكشهير   \n",
       "8   2023-03-03        الدوري السعودي            الخليج              الاتحاد   \n",
       "9   2023-03-03      الدوري البرتغالي          بوافيستا                أروكا   \n",
       "10  2023-03-03      الدوري الإماراتي            الظفرة                الوصل   \n",
       "11  2023-03-03         دوري نجوم قطر           الغرافة        الأهلي القطري   \n",
       "12  2023-03-03        الدوري المغربي     المغرب الفاسي        الفتح الرباطي   \n",
       "\n",
       "     Time  Team_A_Score  Team_B_Score Match_Status  Chanel_Streaming  \\\n",
       "0   21:00             1             0        انتهت  بى ان سبورت 4 HD   \n",
       "1   17:00             0             0        انتهت   Ontime sports 2   \n",
       "2   22:00             0             0        انتهت   بى ان سبورت 1HD   \n",
       "3   16:00             5             0        انتهت  بى ان سبورت 4 HD   \n",
       "4   21:45             0             1        انتهت    Starz Play App   \n",
       "5   21:30             2             1        انتهت  بى ان سبورت 3 HD   \n",
       "6   22:00             1             1        انتهت  بى ان سبورت 2 HD   \n",
       "7   19:00             1             0        انتهت               NaN   \n",
       "8   15:00             0             3        انتهت               NaN   \n",
       "9   21:00             0             0        انتهت               NaN   \n",
       "10  15:30             0             2        انتهت               NaN   \n",
       "11  15:55             1             1        انتهت               NaN   \n",
       "12  19:15             0             0        انتهت               NaN   \n",
       "\n",
       "                                    Match_Detail_Link        Match_Week_Number  \n",
       "0   https://www.yallakora.com/african-champions-le...            الجولة الاولي  \n",
       "1   https://www.yallakora.com/egyptian-league/2795...          الأسبوع العشرون  \n",
       "2   https://www.yallakora.com/la-liga/2764/match/8...  الأسبوع الرابع والعشرون  \n",
       "3   https://www.yallakora.com/african-youth-champi...             دور الثمانية  \n",
       "4   https://www.yallakora.com/serie-a/2765/match/8...  الأسبوع الخامس والعشرون  \n",
       "5   https://www.yallakora.com/bundesliga/2769/matc...  الأسبوع الثالث والعشرون  \n",
       "6   https://www.yallakora.com/ligue1/2768/match/87...  الأسبوع السادس والعشرون  \n",
       "7   https://www.yallakora.com/turkish-super-lig/27...  الأسبوع الرابع والعشرون  \n",
       "8   https://www.yallakora.com/ksa-league/2784/matc...       الأسبوع التاسع عشر  \n",
       "9   https://www.yallakora.com/primeira-liga/2775/m...  الأسبوع الثالث والعشرون  \n",
       "10  https://www.yallakora.com/uael-league/2781/mat...       الأسبوع الثامن عشر  \n",
       "11  https://www.yallakora.com/qatar-league/2779/ma...       الأسبوع السادس عشر  \n",
       "12  https://www.yallakora.com/morrocan-league/2794...       الأسبوع التاسع عشر  "
      ]
     },
     "execution_count": 38,
     "metadata": {},
     "output_type": "execute_result"
    }
   ],
   "source": [
    "data"
   ]
  },
  {
   "cell_type": "code",
   "execution_count": null,
   "metadata": {},
   "outputs": [],
   "source": []
  },
  {
   "cell_type": "code",
   "execution_count": null,
   "metadata": {},
   "outputs": [],
   "source": []
  },
  {
   "cell_type": "markdown",
   "metadata": {},
   "source": [
    " "
   ]
  }
 ],
 "metadata": {
  "kernelspec": {
   "display_name": "Python 3",
   "language": "python",
   "name": "python3"
  },
  "language_info": {
   "codemirror_mode": {
    "name": "ipython",
    "version": 3
   },
   "file_extension": ".py",
   "mimetype": "text/x-python",
   "name": "python",
   "nbconvert_exporter": "python",
   "pygments_lexer": "ipython3",
   "version": "3.7.6"
  }
 },
 "nbformat": 4,
 "nbformat_minor": 4
}
